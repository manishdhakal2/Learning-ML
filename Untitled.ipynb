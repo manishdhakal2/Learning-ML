{
 "cells": [
  {
   "cell_type": "code",
   "execution_count": 1,
   "id": "beb6258f-ad27-49bc-b146-f95ef72879a5",
   "metadata": {},
   "outputs": [],
   "source": [
    "import torch\n",
    "import numpy as np\n",
    "import matplotlib.pyplot as plt\n",
    "import pandas as pd\n",
    "\n",
    "import cv2\n"
   ]
  },
  {
   "cell_type": "code",
   "execution_count": 2,
   "id": "673f77b8-e767-4cbc-8eb8-12ffe3b93377",
   "metadata": {},
   "outputs": [
    {
     "data": {
      "text/plain": [
       "tensor(8)"
      ]
     },
     "execution_count": 2,
     "metadata": {},
     "output_type": "execute_result"
    }
   ],
   "source": [
    "#Scalar\n",
    "scalar=torch.tensor(8)\n",
    "scalar"
   ]
  },
  {
   "cell_type": "code",
   "execution_count": 3,
   "id": "ef9a7b0a-0d8f-4d5a-8e47-e642ddb01201",
   "metadata": {},
   "outputs": [
    {
     "data": {
      "text/plain": [
       "0"
      ]
     },
     "execution_count": 3,
     "metadata": {},
     "output_type": "execute_result"
    }
   ],
   "source": [
    "scalar.ndim"
   ]
  },
  {
   "cell_type": "code",
   "execution_count": 4,
   "id": "47d1f2ae-e6dc-478d-86ce-6f0455b27abb",
   "metadata": {},
   "outputs": [
    {
     "data": {
      "text/plain": [
       "8"
      ]
     },
     "execution_count": 4,
     "metadata": {},
     "output_type": "execute_result"
    }
   ],
   "source": [
    "#Get The data from the scalar\n",
    "\n",
    "scalar.item()"
   ]
  },
  {
   "cell_type": "code",
   "execution_count": 5,
   "id": "ad368cc4-b28f-4b1f-852a-9f05edf18471",
   "metadata": {},
   "outputs": [
    {
     "name": "stdout",
     "output_type": "stream",
     "text": [
      "tensor([1, 2])\n",
      "torch.Size([2])\n"
     ]
    },
    {
     "data": {
      "text/plain": [
       "tensor([1, 2], dtype=torch.int32)"
      ]
     },
     "execution_count": 5,
     "metadata": {},
     "output_type": "execute_result"
    }
   ],
   "source": [
    "#Creating Vectors\n",
    "\n",
    "vector1=torch.tensor([1,2])\n",
    "print(vector1)\n",
    "print(vector1.shape)\n",
    "\n",
    "#From Numpy array\n",
    "arr=np.array([1,2])\n",
    "npVector=torch.tensor(arr) # npVector=torch.from_numpy(arr)\n",
    "npVector"
   ]
  },
  {
   "cell_type": "code",
   "execution_count": 6,
   "id": "7b991751-da7f-4bc9-812e-d83f6c3c97e2",
   "metadata": {},
   "outputs": [
    {
     "name": "stdout",
     "output_type": "stream",
     "text": [
      "tensor([[1, 2],\n",
      "        [2, 3],\n",
      "        [3, 4]])\n",
      "2\n",
      "tensor([[1, 2],\n",
      "        [2, 3],\n",
      "        [3, 4]], dtype=torch.int32)\n",
      "torch.Size([3, 2])\n",
      "1\n"
     ]
    }
   ],
   "source": [
    "#Matrices\n",
    "matrix=torch.tensor([[1,2],[2,3],[3,4]])\n",
    "print(matrix)\n",
    "print(matrix.ndim)\n",
    "\n",
    "#Matrices from numpy array\n",
    "arr1=np.array([[1,2],[2,3],[3,4]])\n",
    "matrixNp=torch.tensor(arr1)\n",
    "print(matrixNp)\n",
    "print(matrixNp.shape)\n",
    "print(matrixNp[0][0].item())# The indexing will always result in a tensor, hence we call item()"
   ]
  },
  {
   "cell_type": "code",
   "execution_count": 7,
   "id": "fc3a0130-5ac2-423e-980b-45535c87536f",
   "metadata": {},
   "outputs": [
    {
     "name": "stdout",
     "output_type": "stream",
     "text": [
      "tensor([[[1, 2, 3],\n",
      "         [3, 4, 5]],\n",
      "\n",
      "        [[2, 3, 5],\n",
      "         [1, 1, 1]]])\n",
      "3\n"
     ]
    }
   ],
   "source": [
    "#Creating Tensors (Matrices With More than 3 dimensions\n",
    "\n",
    "tensor1=torch.tensor([[[1,2,3],[3,4,5]],[[2,3,5],[1,1,1]]])\n",
    "print(tensor1)\n",
    "print(tensor1.ndim)"
   ]
  },
  {
   "cell_type": "code",
   "execution_count": 8,
   "id": "1234e976-7ad2-493e-a7d8-ee6ee6eef73a",
   "metadata": {},
   "outputs": [
    {
     "name": "stdout",
     "output_type": "stream",
     "text": [
      "tensor([[[1.0000, 2.0000],\n",
      "         [3.0000, 3.1000]]])\n"
     ]
    }
   ],
   "source": [
    "#Just lil experiments -_-\n",
    "tensor2=torch.tensor([[[1,2],\n",
    "          [3,3.1]]])\n",
    "print(tensor2)"
   ]
  },
  {
   "cell_type": "code",
   "execution_count": 9,
   "id": "37e3eaf7-0ff4-464e-b932-7060371b82eb",
   "metadata": {},
   "outputs": [
    {
     "name": "stdout",
     "output_type": "stream",
     "text": [
      "1\n",
      "tensor([1, 2, 3])\n"
     ]
    }
   ],
   "source": [
    "#Accessing Members of a tensor\n",
    "print(tensor1[0][0][0].item())\n",
    "print(tensor1[0][0])\n"
   ]
  },
  {
   "cell_type": "code",
   "execution_count": 10,
   "id": "030d1257-b2f5-469b-aded-4c99c4ac0a36",
   "metadata": {},
   "outputs": [
    {
     "name": "stdout",
     "output_type": "stream",
     "text": [
      "tensor([[[  2.3313,  62.5639],\n",
      "         [ 43.1852, 140.4324]],\n",
      "\n",
      "        [[ 88.0044, 102.2133],\n",
      "         [ 34.1853, 183.7810]]])\n",
      "tensor([[[-1.3417, -0.3284],\n",
      "         [-0.6544,  0.9815]],\n",
      "\n",
      "        [[ 0.0995,  0.3386],\n",
      "         [-0.8058,  1.7107]]])\n",
      "The sum of elements is 1.1920928955078125e-07\n",
      "The maxm of elements is 1.710721492767334\n",
      "The minm of elements is -1.3416731357574463\n"
     ]
    }
   ],
   "source": [
    "#Creating Random Tensors \n",
    "randTensor=torch.rand(2,2,2)\n",
    "\n",
    "#Applying a Transformation to the tensor\n",
    "randTensor=randTensor*200\n",
    "print(randTensor)\n",
    "\n",
    "#StandardScaling the tensor\n",
    "randTensor=(randTensor-torch.mean(randTensor))/torch.std(randTensor)\n",
    "print(randTensor)\n",
    "\n",
    "#Sum, min and max\n",
    "print(f\"The sum of elements is {torch.sum(randTensor)}\")\n",
    "print(f\"The maxm of elements is {torch.max(randTensor)}\")\n",
    "print(f\"The minm of elements is {torch.min(randTensor)}\")\n",
    "\n",
    "\n",
    "\n"
   ]
  },
  {
   "cell_type": "code",
   "execution_count": 11,
   "id": "65b53e8d-e33e-4f91-a7f0-c07a4c29dc36",
   "metadata": {},
   "outputs": [
    {
     "data": {
      "text/plain": [
       "tensor([[[0.6856, 0.2665, 0.3210],\n",
       "         [0.7947, 0.8534, 0.0955],\n",
       "         [0.7513, 0.7586, 0.1878],\n",
       "         ...,\n",
       "         [0.7228, 0.0937, 0.7359],\n",
       "         [0.9829, 0.5331, 0.4448],\n",
       "         [0.9217, 0.0944, 0.0956]],\n",
       "\n",
       "        [[0.8213, 0.8593, 0.7730],\n",
       "         [0.4452, 0.1491, 0.1116],\n",
       "         [0.9111, 0.2377, 0.5137],\n",
       "         ...,\n",
       "         [0.2008, 0.4856, 0.1678],\n",
       "         [0.7963, 0.7095, 0.4370],\n",
       "         [0.7018, 0.7523, 0.6385]],\n",
       "\n",
       "        [[0.6421, 0.6045, 0.3463],\n",
       "         [0.3659, 0.5100, 0.6621],\n",
       "         [0.3263, 0.3143, 0.8762],\n",
       "         ...,\n",
       "         [0.1105, 0.9713, 0.5432],\n",
       "         [0.8671, 0.7138, 0.6907],\n",
       "         [0.9670, 0.3565, 0.0452]],\n",
       "\n",
       "        ...,\n",
       "\n",
       "        [[0.8902, 0.1603, 0.2248],\n",
       "         [0.8400, 0.5838, 0.9141],\n",
       "         [0.3374, 0.4215, 0.7164],\n",
       "         ...,\n",
       "         [0.7973, 0.4756, 0.8772],\n",
       "         [0.7717, 0.4775, 0.7183],\n",
       "         [0.3152, 0.3610, 0.0191]],\n",
       "\n",
       "        [[0.8182, 0.6990, 0.4540],\n",
       "         [0.2168, 0.9748, 0.2805],\n",
       "         [0.7850, 0.6815, 0.2192],\n",
       "         ...,\n",
       "         [0.8394, 0.3036, 0.2642],\n",
       "         [0.2346, 0.6351, 0.2894],\n",
       "         [0.5264, 0.4491, 0.1768]],\n",
       "\n",
       "        [[0.0171, 0.1693, 0.8577],\n",
       "         [0.6283, 0.0283, 0.7267],\n",
       "         [0.3140, 0.0169, 0.2038],\n",
       "         ...,\n",
       "         [0.3445, 0.3866, 0.5729],\n",
       "         [0.9049, 0.5980, 0.5830],\n",
       "         [0.1848, 0.8401, 0.2217]]])"
      ]
     },
     "execution_count": 11,
     "metadata": {},
     "output_type": "execute_result"
    }
   ],
   "source": [
    "#Creating tensors similar to images\n",
    "\n",
    "image_1=torch.rand(size=(224,224,3))\n",
    "image_1\n"
   ]
  },
  {
   "cell_type": "code",
   "execution_count": 12,
   "id": "266b6846-9d41-4cf9-a7de-ee2340055336",
   "metadata": {},
   "outputs": [
    {
     "data": {
      "text/plain": [
       "(tensor([[[1, 1, 1],\n",
       "          [1, 1, 1],\n",
       "          [1, 1, 1]],\n",
       " \n",
       "         [[1, 1, 1],\n",
       "          [1, 1, 1],\n",
       "          [1, 1, 1]]], dtype=torch.int32),\n",
       " tensor([[[0, 0, 0],\n",
       "          [0, 0, 0],\n",
       "          [0, 0, 0]],\n",
       " \n",
       "         [[0, 0, 0],\n",
       "          [0, 0, 0],\n",
       "          [0, 0, 0]]], dtype=torch.int32))"
      ]
     },
     "execution_count": 12,
     "metadata": {},
     "output_type": "execute_result"
    }
   ],
   "source": [
    "#Creating Tensors  With Zeros Or Ones\n",
    "zeros=torch.zeros(size=(2,3,3),dtype=torch.int32)\n",
    "ones=torch.ones(size=(2,3,3),dtype=torch.int32)\n",
    "ones,zeros"
   ]
  },
  {
   "cell_type": "code",
   "execution_count": 13,
   "id": "f19dd1af-f3bb-4165-935b-49b179f7344f",
   "metadata": {},
   "outputs": [
    {
     "name": "stdout",
     "output_type": "stream",
     "text": [
      "tensor([[[0, 0, 0],\n",
      "         [0, 0, 0],\n",
      "         [0, 0, 0]],\n",
      "\n",
      "        [[0, 0, 0],\n",
      "         [0, 0, 0],\n",
      "         [0, 0, 0]]], dtype=torch.int32)\n"
     ]
    }
   ],
   "source": [
    "#Do Some Cool Matrix Multiplication Stuff\n",
    "print(zeros@ones)\n",
    "\n"
   ]
  },
  {
   "cell_type": "code",
   "execution_count": 14,
   "id": "e2bedacc-2ac9-4e6b-8022-04eb925e003f",
   "metadata": {},
   "outputs": [
    {
     "data": {
      "text/plain": [
       "tensor([20, 19, 18, 17, 16, 15, 14, 13, 12, 11, 10,  9,  8,  7,  6,  5,  4,  3,\n",
       "         2])"
      ]
     },
     "execution_count": 14,
     "metadata": {},
     "output_type": "execute_result"
    }
   ],
   "source": [
    "#Create a range  of values inside  a tensor\n",
    "ranges=torch.arange(20,1,-1)\n",
    "ranges"
   ]
  },
  {
   "cell_type": "code",
   "execution_count": 15,
   "id": "f33b2e04-c4aa-4c76-a025-f06c044157c5",
   "metadata": {},
   "outputs": [
    {
     "data": {
      "text/plain": [
       "tensor([1, 1, 1, 1, 1, 1, 1, 1, 1, 1, 1, 1, 1, 1, 1, 1, 1, 1, 1])"
      ]
     },
     "execution_count": 15,
     "metadata": {},
     "output_type": "execute_result"
    }
   ],
   "source": [
    "#Creating a tensor alike another tensor\n",
    "\n",
    "newTensor=torch.ones_like(ranges)\n",
    "newTensor"
   ]
  },
  {
   "cell_type": "markdown",
   "id": "4c545d0c-306a-4102-99d3-5edd399f4767",
   "metadata": {},
   "source": [
    "<h1><b>Tensor DataTypes</b></h1>"
   ]
  },
  {
   "cell_type": "code",
   "execution_count": 16,
   "id": "8d83275d-c66a-474a-b59b-d4d7e5ff6ca2",
   "metadata": {},
   "outputs": [
    {
     "name": "stdout",
     "output_type": "stream",
     "text": [
      "tensor([[1., 2., 3.]], device='cuda:0')\n"
     ]
    }
   ],
   "source": [
    "#normal float32 \n",
    "float32=torch.tensor([[1,2.0,3]],dtype=torch.float32 #\n",
    "                     ,device=\"cuda\",#use cpu or gpu\n",
    "                     requires_grad=False)\n",
    "print(float32)\n",
    "\n",
    "#Other Data Types : float32, int8,int32,int64,int16,complex32,complex64 etc etc"
   ]
  },
  {
   "cell_type": "markdown",
   "id": "c88d37ed-3b6d-4c9e-b036-0d19e4f57656",
   "metadata": {},
   "source": [
    "<h1><b>Getting Information/Attributes from a tensor</b></h1>"
   ]
  },
  {
   "cell_type": "code",
   "execution_count": 17,
   "id": "5048ec4d-cfca-48c4-b412-9d0dfe712e63",
   "metadata": {},
   "outputs": [
    {
     "name": "stdout",
     "output_type": "stream",
     "text": [
      "torch.Size([1, 3])\n",
      "cuda:0\n",
      "torch.float32\n"
     ]
    }
   ],
   "source": [
    "print(float32.shape)\n",
    "print(float32.device)\n",
    "print(float32.dtype)"
   ]
  },
  {
   "cell_type": "markdown",
   "id": "57f6f0d5-a3dc-4505-9f5c-e5d057ed2cf3",
   "metadata": {},
   "source": [
    "<h1><b>Manipulating Tensors</h1>\n",
    "<h3>Addition\n",
    "Subtraction\n",
    "Element Wise Multiplication\n",
    "Division\n",
    "Matrix Multiplication</b></h3>"
   ]
  },
  {
   "cell_type": "code",
   "execution_count": 20,
   "id": "d2adde96-43bb-4ff6-ae4d-03557c58b098",
   "metadata": {},
   "outputs": [
    {
     "name": "stdout",
     "output_type": "stream",
     "text": [
      "tensor([[2., 4., 6.]], device='cuda:0')\n",
      "tensor([[1., 4., 9.]], device='cuda:0')\n",
      "tensor([[14.]], device='cuda:0')\n"
     ]
    }
   ],
   "source": [
    "#addition\n",
    "print(float32+float32) #The Dimensions must match for addition and subtraction\n",
    "\n",
    "#Element wise  multiplication\n",
    "print(float32*float32)\n",
    "\n",
    "#Matrix Multiplication\n",
    "print(float32@float32.T)  #Shape Of Float32=(1,3) float32.T=(3,1)"
   ]
  },
  {
   "cell_type": "code",
   "execution_count": 19,
   "id": "6ed3cdba-b44f-4273-a508-7a1bdd93f1f2",
   "metadata": {},
   "outputs": [
    {
     "name": "stdout",
     "output_type": "stream",
     "text": [
      "torch.float32\n",
      "tensor(3.)\n",
      "tensor([0, 0])\n",
      "tensor([2, 2])\n"
     ]
    }
   ],
   "source": [
    "#Min ,max , mean,argmin,argmax\n",
    "#Cannot operate these on an int tensor\n",
    "new_tensor=torch.tensor([[1,2,3],[3,4,5]],dtype=torch.int32)\n",
    "new_tensor=new_tensor.type(torch.float32)\n",
    "print(new_tensor.dtype)\n",
    "print(torch.mean(new_tensor))\n",
    "print(torch.argmin(new_tensor,axis=1)) #Returns The index of the minimum value\n",
    "print(torch.argmax(new_tensor,axis=1)) #Returns The index of the minimum value"
   ]
  },
  {
   "cell_type": "markdown",
   "id": "7a2dbd71-3b31-46f5-a61a-1d3ac0e6270c",
   "metadata": {},
   "source": [
    "<h1><b>Reshaping , Viewing and Stacking Tensors</b></h1>"
   ]
  },
  {
   "cell_type": "code",
   "execution_count": 32,
   "id": "84276131-4c8b-4b26-8e26-e566bd1aab2b",
   "metadata": {},
   "outputs": [
    {
     "name": "stdout",
     "output_type": "stream",
     "text": [
      "tensor([[ 1.,  2.,  3.,  4.,  5.,  6.,  7.,  8.,  9., 10., 11., 12., 13., 14.,\n",
      "         15.],\n",
      "        [16., 17., 18., 19., 20., 21., 22., 23., 24., 25., 26., 27., 28., 29.,\n",
      "         30.]])\n"
     ]
    },
    {
     "name": "stderr",
     "output_type": "stream",
     "text": [
      "fatal: destination path 'Learning-ML' already exists and is not an empty directory.\n",
      "fatal: not a git repository (or any of the parent directories): .git\n",
      "fatal: not a git repository (or any of the parent directories): .git\n"
     ]
    }
   ],
   "source": [
    "x=torch.arange(1.,31.)\n",
    "x_re=x.reshape(2,15)  # just creates a new copy\n",
    "print(x_re)\n",
    "\n",
    "x_re=x.view(2,15)\n",
    "x_re[:,1]=3 #Changing x_re changes x as both share  the same memory\n",
    "x,x_re\n",
    "\n",
    "\n",
    "x_stacked=torch.stack([x,x,x],dim=0) #Stacks 3 x's in a specified dimension\n",
    "x_stacked\n",
    "!git clone https://github.com/manishdhakal2/Learning-ML.git\n",
    "!git add Untitled.ipynb\n",
    "!git commit"
   ]
  },
  {
   "cell_type": "code",
   "execution_count": null,
   "id": "fade21ee-736a-4a45-974e-4fcea9d75bc1",
   "metadata": {},
   "outputs": [],
   "source": []
  }
 ],
 "metadata": {
  "kernelspec": {
   "display_name": "Python 3 (ipykernel)",
   "language": "python",
   "name": "python3"
  },
  "language_info": {
   "codemirror_mode": {
    "name": "ipython",
    "version": 3
   },
   "file_extension": ".py",
   "mimetype": "text/x-python",
   "name": "python",
   "nbconvert_exporter": "python",
   "pygments_lexer": "ipython3",
   "version": "3.11.9"
  }
 },
 "nbformat": 4,
 "nbformat_minor": 5
}
