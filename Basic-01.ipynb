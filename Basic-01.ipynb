{
 "cells": [
  {
   "cell_type": "code",
   "execution_count": 27,
   "id": "beb6258f-ad27-49bc-b146-f95ef72879a5",
   "metadata": {},
   "outputs": [],
   "source": [
    "import torch\n",
    "import numpy as np\n",
    "import matplotlib.pyplot as plt\n",
    "import pandas as pd\n",
    "\n",
    "import cv2\n",
    "\n",
    "device=\"cuda\" if torch.cuda.is_available()  else \"cpu\""
   ]
  },
  {
   "cell_type": "code",
   "execution_count": 28,
   "id": "673f77b8-e767-4cbc-8eb8-12ffe3b93377",
   "metadata": {},
   "outputs": [
    {
     "data": {
      "text/plain": [
       "tensor(8)"
      ]
     },
     "execution_count": 28,
     "metadata": {},
     "output_type": "execute_result"
    }
   ],
   "source": [
    "#Scalar\n",
    "scalar=torch.tensor(8)\n",
    "scalar"
   ]
  },
  {
   "cell_type": "code",
   "execution_count": 29,
   "id": "ef9a7b0a-0d8f-4d5a-8e47-e642ddb01201",
   "metadata": {},
   "outputs": [
    {
     "data": {
      "text/plain": [
       "0"
      ]
     },
     "execution_count": 29,
     "metadata": {},
     "output_type": "execute_result"
    }
   ],
   "source": [
    "scalar.ndim"
   ]
  },
  {
   "cell_type": "code",
   "execution_count": 30,
   "id": "47d1f2ae-e6dc-478d-86ce-6f0455b27abb",
   "metadata": {},
   "outputs": [
    {
     "data": {
      "text/plain": [
       "8"
      ]
     },
     "execution_count": 30,
     "metadata": {},
     "output_type": "execute_result"
    }
   ],
   "source": [
    "#Get The data from the scalar\n",
    "\n",
    "scalar.item()"
   ]
  },
  {
   "cell_type": "code",
   "execution_count": 31,
   "id": "ad368cc4-b28f-4b1f-852a-9f05edf18471",
   "metadata": {},
   "outputs": [
    {
     "name": "stdout",
     "output_type": "stream",
     "text": [
      "tensor([1, 2])\n",
      "torch.Size([2])\n"
     ]
    },
    {
     "data": {
      "text/plain": [
       "tensor([1, 2], dtype=torch.int32)"
      ]
     },
     "execution_count": 31,
     "metadata": {},
     "output_type": "execute_result"
    }
   ],
   "source": [
    "#Creating Vectors\n",
    "\n",
    "vector1=torch.tensor([1,2])\n",
    "print(vector1)\n",
    "print(vector1.shape)\n",
    "\n",
    "#From Numpy array\n",
    "arr=np.array([1,2])\n",
    "npVector=torch.tensor(arr) # npVector=torch.from_numpy(arr)\n",
    "npVector"
   ]
  },
  {
   "cell_type": "code",
   "execution_count": 32,
   "id": "7b991751-da7f-4bc9-812e-d83f6c3c97e2",
   "metadata": {},
   "outputs": [
    {
     "name": "stdout",
     "output_type": "stream",
     "text": [
      "tensor([[1, 2],\n",
      "        [2, 3],\n",
      "        [3, 4]])\n",
      "2\n",
      "tensor([[1, 2],\n",
      "        [2, 3],\n",
      "        [3, 4]], dtype=torch.int32)\n",
      "torch.Size([3, 2])\n",
      "1\n"
     ]
    }
   ],
   "source": [
    "#Matrices\n",
    "matrix=torch.tensor([[1,2],[2,3],[3,4]])\n",
    "print(matrix)\n",
    "print(matrix.ndim)\n",
    "\n",
    "#Matrices from numpy array\n",
    "arr1=np.array([[1,2],[2,3],[3,4]])\n",
    "matrixNp=torch.tensor(arr1)\n",
    "print(matrixNp)\n",
    "print(matrixNp.shape)\n",
    "print(matrixNp[0][0].item())# The indexing will always result in a tensor, hence we call item()"
   ]
  },
  {
   "cell_type": "code",
   "execution_count": 33,
   "id": "fc3a0130-5ac2-423e-980b-45535c87536f",
   "metadata": {},
   "outputs": [
    {
     "name": "stdout",
     "output_type": "stream",
     "text": [
      "tensor([[[1, 2, 3],\n",
      "         [3, 4, 5]],\n",
      "\n",
      "        [[2, 3, 5],\n",
      "         [1, 1, 1]]])\n",
      "3\n"
     ]
    }
   ],
   "source": [
    "#Creating Tensors (Matrices With More than 3 dimensions\n",
    "\n",
    "tensor1=torch.tensor([[[1,2,3],[3,4,5]],[[2,3,5],[1,1,1]]])\n",
    "print(tensor1)\n",
    "print(tensor1.ndim)"
   ]
  },
  {
   "cell_type": "code",
   "execution_count": 34,
   "id": "1234e976-7ad2-493e-a7d8-ee6ee6eef73a",
   "metadata": {},
   "outputs": [
    {
     "name": "stdout",
     "output_type": "stream",
     "text": [
      "tensor([[[1.0000, 2.0000],\n",
      "         [3.0000, 3.1000]]])\n"
     ]
    }
   ],
   "source": [
    "#Just lil experiments -_-\n",
    "tensor2=torch.tensor([[[1,2],\n",
    "          [3,3.1]]])\n",
    "print(tensor2)"
   ]
  },
  {
   "cell_type": "code",
   "execution_count": 35,
   "id": "37e3eaf7-0ff4-464e-b932-7060371b82eb",
   "metadata": {},
   "outputs": [
    {
     "name": "stdout",
     "output_type": "stream",
     "text": [
      "1\n",
      "tensor([1, 2, 3])\n"
     ]
    }
   ],
   "source": [
    "#Accessing Members of a tensor\n",
    "print(tensor1[0][0][0].item())\n",
    "print(tensor1[0][0])\n"
   ]
  },
  {
   "cell_type": "code",
   "execution_count": 36,
   "id": "030d1257-b2f5-469b-aded-4c99c4ac0a36",
   "metadata": {},
   "outputs": [
    {
     "name": "stdout",
     "output_type": "stream",
     "text": [
      "tensor([[[ 26.6372, 186.9196],\n",
      "         [118.7159, 173.8809]],\n",
      "\n",
      "        [[113.5431, 148.2188],\n",
      "         [ 85.8809, 177.0886]]])\n",
      "tensor([[[-1.8783,  1.0668],\n",
      "         [-0.1864,  0.8272]],\n",
      "\n",
      "        [[-0.2815,  0.3557],\n",
      "         [-0.7897,  0.8862]]])\n",
      "The sum of elements is -8.940696716308594e-07\n",
      "The maxm of elements is 1.0668165683746338\n",
      "The minm of elements is -1.8783252239227295\n"
     ]
    }
   ],
   "source": [
    "#Creating Random Tensors \n",
    "randTensor=torch.rand(2,2,2)\n",
    "\n",
    "#Applying a Transformation to the tensor\n",
    "randTensor=randTensor*200\n",
    "print(randTensor)\n",
    "\n",
    "#StandardScaling the tensor\n",
    "randTensor=(randTensor-torch.mean(randTensor))/torch.std(randTensor)\n",
    "print(randTensor)\n",
    "\n",
    "#Sum, min and max\n",
    "print(f\"The sum of elements is {torch.sum(randTensor)}\")\n",
    "print(f\"The maxm of elements is {torch.max(randTensor)}\")\n",
    "print(f\"The minm of elements is {torch.min(randTensor)}\")\n",
    "\n",
    "\n",
    "\n"
   ]
  },
  {
   "cell_type": "code",
   "execution_count": 37,
   "id": "65b53e8d-e33e-4f91-a7f0-c07a4c29dc36",
   "metadata": {},
   "outputs": [
    {
     "data": {
      "text/plain": [
       "tensor([[[0.5739, 0.2666, 0.6274],\n",
       "         [0.2696, 0.4414, 0.2969],\n",
       "         [0.8317, 0.1053, 0.2695],\n",
       "         ...,\n",
       "         [0.8537, 0.5697, 0.2088],\n",
       "         [0.6539, 0.3397, 0.9565],\n",
       "         [0.0660, 0.3421, 0.0172]],\n",
       "\n",
       "        [[0.3031, 0.6576, 0.9813],\n",
       "         [0.5840, 0.9902, 0.5978],\n",
       "         [0.7888, 0.9008, 0.9180],\n",
       "         ...,\n",
       "         [0.6820, 0.5322, 0.8510],\n",
       "         [0.4556, 0.1844, 0.8533],\n",
       "         [0.5698, 0.3568, 0.1704]],\n",
       "\n",
       "        [[0.6172, 0.0231, 0.6317],\n",
       "         [0.7472, 0.0614, 0.1727],\n",
       "         [0.1405, 0.9203, 0.9251],\n",
       "         ...,\n",
       "         [0.6792, 0.4989, 0.0933],\n",
       "         [0.3064, 0.6272, 0.5955],\n",
       "         [0.8636, 0.8345, 0.2273]],\n",
       "\n",
       "        ...,\n",
       "\n",
       "        [[0.8819, 0.3599, 0.1989],\n",
       "         [0.5711, 0.5387, 0.1378],\n",
       "         [0.9763, 0.5521, 0.6004],\n",
       "         ...,\n",
       "         [0.7943, 0.1790, 0.9954],\n",
       "         [0.6617, 0.9871, 0.5877],\n",
       "         [0.7375, 0.1551, 0.7881]],\n",
       "\n",
       "        [[0.3759, 0.7442, 0.8621],\n",
       "         [0.7548, 0.6381, 0.0106],\n",
       "         [0.0893, 0.6170, 0.3402],\n",
       "         ...,\n",
       "         [0.3753, 0.3450, 0.6359],\n",
       "         [0.8216, 0.9618, 0.7925],\n",
       "         [0.2952, 0.6393, 0.7158]],\n",
       "\n",
       "        [[0.6099, 0.1369, 0.4302],\n",
       "         [0.7265, 0.6237, 0.8480],\n",
       "         [0.4580, 0.2424, 0.8264],\n",
       "         ...,\n",
       "         [0.3555, 0.1167, 0.1133],\n",
       "         [0.8600, 0.2933, 0.5889],\n",
       "         [0.4117, 0.0992, 0.3078]]])"
      ]
     },
     "execution_count": 37,
     "metadata": {},
     "output_type": "execute_result"
    }
   ],
   "source": [
    "#Creating tensors similar to images\n",
    "\n",
    "image_1=torch.rand(size=(224,224,3))\n",
    "image_1\n"
   ]
  },
  {
   "cell_type": "code",
   "execution_count": 38,
   "id": "266b6846-9d41-4cf9-a7de-ee2340055336",
   "metadata": {},
   "outputs": [
    {
     "data": {
      "text/plain": [
       "(tensor([[[1, 1, 1],\n",
       "          [1, 1, 1],\n",
       "          [1, 1, 1]],\n",
       " \n",
       "         [[1, 1, 1],\n",
       "          [1, 1, 1],\n",
       "          [1, 1, 1]]], dtype=torch.int32),\n",
       " tensor([[[0, 0, 0],\n",
       "          [0, 0, 0],\n",
       "          [0, 0, 0]],\n",
       " \n",
       "         [[0, 0, 0],\n",
       "          [0, 0, 0],\n",
       "          [0, 0, 0]]], dtype=torch.int32))"
      ]
     },
     "execution_count": 38,
     "metadata": {},
     "output_type": "execute_result"
    }
   ],
   "source": [
    "#Creating Tensors  With Zeros Or Ones\n",
    "zeros=torch.zeros(size=(2,3,3),dtype=torch.int32)\n",
    "ones=torch.ones(size=(2,3,3),dtype=torch.int32)\n",
    "ones,zeros"
   ]
  },
  {
   "cell_type": "code",
   "execution_count": 39,
   "id": "f19dd1af-f3bb-4165-935b-49b179f7344f",
   "metadata": {},
   "outputs": [
    {
     "name": "stdout",
     "output_type": "stream",
     "text": [
      "tensor([[[0, 0, 0],\n",
      "         [0, 0, 0],\n",
      "         [0, 0, 0]],\n",
      "\n",
      "        [[0, 0, 0],\n",
      "         [0, 0, 0],\n",
      "         [0, 0, 0]]], dtype=torch.int32)\n"
     ]
    }
   ],
   "source": [
    "#Do Some Cool Matrix Multiplication Stuff\n",
    "print(zeros@ones)\n",
    "\n"
   ]
  },
  {
   "cell_type": "code",
   "execution_count": 40,
   "id": "e2bedacc-2ac9-4e6b-8022-04eb925e003f",
   "metadata": {},
   "outputs": [
    {
     "data": {
      "text/plain": [
       "tensor([20, 19, 18, 17, 16, 15, 14, 13, 12, 11, 10,  9,  8,  7,  6,  5,  4,  3,\n",
       "         2])"
      ]
     },
     "execution_count": 40,
     "metadata": {},
     "output_type": "execute_result"
    }
   ],
   "source": [
    "#Create a range  of values inside  a tensor\n",
    "ranges=torch.arange(20,1,-1)\n",
    "ranges"
   ]
  },
  {
   "cell_type": "code",
   "execution_count": 41,
   "id": "f33b2e04-c4aa-4c76-a025-f06c044157c5",
   "metadata": {},
   "outputs": [
    {
     "data": {
      "text/plain": [
       "tensor([1, 1, 1, 1, 1, 1, 1, 1, 1, 1, 1, 1, 1, 1, 1, 1, 1, 1, 1])"
      ]
     },
     "execution_count": 41,
     "metadata": {},
     "output_type": "execute_result"
    }
   ],
   "source": [
    "#Creating a tensor alike another tensor\n",
    "\n",
    "newTensor=torch.ones_like(ranges)\n",
    "newTensor"
   ]
  },
  {
   "cell_type": "markdown",
   "id": "4c545d0c-306a-4102-99d3-5edd399f4767",
   "metadata": {},
   "source": [
    "<h1><b>Tensor DataTypes</b></h1>"
   ]
  },
  {
   "cell_type": "code",
   "execution_count": 55,
   "id": "8d83275d-c66a-474a-b59b-d4d7e5ff6ca2",
   "metadata": {},
   "outputs": [
    {
     "name": "stdout",
     "output_type": "stream",
     "text": [
      "tensor([[1., 2., 3.]])\n"
     ]
    },
    {
     "data": {
      "text/plain": [
       "array([[1., 2., 3.]], dtype=float32)"
      ]
     },
     "execution_count": 55,
     "metadata": {},
     "output_type": "execute_result"
    }
   ],
   "source": [
    "#normal float32 \n",
    "float32=torch.tensor([[1,2.0,3]],dtype=torch.float32 #\n",
    "                     ,device=\"cpu\",#use cpu or gpu\n",
    "                     requires_grad=False)\n",
    "print(float32)\n",
    "\n",
    "#Other Data Types : float32, int8,int32,int64,int16,complex32,complex64 etc etc\n",
    "\n",
    "\n",
    "#We can also create numpy array from tensors\n",
    "np=float32.numpy() #Remember that the tensor has to be a cpu tensor as numpy has no support for gpu\n",
    "np"
   ]
  },
  {
   "cell_type": "markdown",
   "id": "c88d37ed-3b6d-4c9e-b036-0d19e4f57656",
   "metadata": {},
   "source": [
    "<h1><b>Getting Information/Attributes from a tensor</b></h1>"
   ]
  },
  {
   "cell_type": "code",
   "execution_count": 43,
   "id": "5048ec4d-cfca-48c4-b412-9d0dfe712e63",
   "metadata": {},
   "outputs": [
    {
     "name": "stdout",
     "output_type": "stream",
     "text": [
      "torch.Size([1, 3])\n",
      "cuda:0\n",
      "torch.float32\n"
     ]
    }
   ],
   "source": [
    "print(float32.shape)\n",
    "print(float32.device)\n",
    "print(float32.dtype)"
   ]
  },
  {
   "cell_type": "markdown",
   "id": "57f6f0d5-a3dc-4505-9f5c-e5d057ed2cf3",
   "metadata": {},
   "source": [
    "<h1><b>Manipulating Tensors</h1>\n",
    "<h3>Addition\n",
    "Subtraction\n",
    "Element Wise Multiplication\n",
    "Division\n",
    "Matrix Multiplication</b></h3>"
   ]
  },
  {
   "cell_type": "code",
   "execution_count": 44,
   "id": "d2adde96-43bb-4ff6-ae4d-03557c58b098",
   "metadata": {},
   "outputs": [
    {
     "name": "stdout",
     "output_type": "stream",
     "text": [
      "tensor([[2., 4., 6.]], device='cuda:0')\n",
      "tensor([[1., 4., 9.]], device='cuda:0')\n",
      "tensor([[14.]], device='cuda:0')\n"
     ]
    }
   ],
   "source": [
    "#addition\n",
    "print(float32+float32) #The Dimensions must match for addition and subtraction\n",
    "\n",
    "#Element wise  multiplication\n",
    "print(float32*float32)\n",
    "\n",
    "#Matrix Multiplication\n",
    "print(float32@float32.T)  #Shape Of Float32=(1,3) float32.T=(3,1)"
   ]
  },
  {
   "cell_type": "code",
   "execution_count": 45,
   "id": "6ed3cdba-b44f-4273-a508-7a1bdd93f1f2",
   "metadata": {},
   "outputs": [
    {
     "name": "stdout",
     "output_type": "stream",
     "text": [
      "torch.float32\n",
      "tensor(3.)\n",
      "tensor([0, 0])\n",
      "tensor([2, 2])\n"
     ]
    }
   ],
   "source": [
    "#Min ,max , mean,argmin,argmax\n",
    "#Cannot operate these on an int tensor\n",
    "new_tensor=torch.tensor([[1,2,3],[3,4,5]],dtype=torch.int32)\n",
    "new_tensor=new_tensor.type(torch.float32)\n",
    "print(new_tensor.dtype)\n",
    "print(torch.mean(new_tensor))\n",
    "print(torch.argmin(new_tensor,axis=1)) #Returns The index of the minimum value\n",
    "print(torch.argmax(new_tensor,axis=1)) #Returns The index of the minimum value"
   ]
  },
  {
   "cell_type": "markdown",
   "id": "7a2dbd71-3b31-46f5-a61a-1d3ac0e6270c",
   "metadata": {},
   "source": [
    "<h1><b>Reshaping , Viewing and Stacking Tensors</b></h1>"
   ]
  },
  {
   "cell_type": "code",
   "execution_count": 46,
   "id": "84276131-4c8b-4b26-8e26-e566bd1aab2b",
   "metadata": {},
   "outputs": [
    {
     "name": "stdout",
     "output_type": "stream",
     "text": [
      "tensor([[ 1.,  2.,  3.,  4.,  5.,  6.,  7.,  8.,  9., 10., 11., 12., 13., 14.,\n",
      "         15.],\n",
      "        [16., 17., 18., 19., 20., 21., 22., 23., 24., 25., 26., 27., 28., 29.,\n",
      "         30.]])\n"
     ]
    },
    {
     "data": {
      "text/plain": [
       "tensor([[ 1.,  3.,  3.,  4.,  5.,  6.,  7.,  8.,  9., 10., 11., 12., 13., 14.,\n",
       "         15., 16.,  3., 18., 19., 20., 21., 22., 23., 24., 25., 26., 27., 28.,\n",
       "         29., 30.],\n",
       "        [ 1.,  3.,  3.,  4.,  5.,  6.,  7.,  8.,  9., 10., 11., 12., 13., 14.,\n",
       "         15., 16.,  3., 18., 19., 20., 21., 22., 23., 24., 25., 26., 27., 28.,\n",
       "         29., 30.],\n",
       "        [ 1.,  3.,  3.,  4.,  5.,  6.,  7.,  8.,  9., 10., 11., 12., 13., 14.,\n",
       "         15., 16.,  3., 18., 19., 20., 21., 22., 23., 24., 25., 26., 27., 28.,\n",
       "         29., 30.]])"
      ]
     },
     "execution_count": 46,
     "metadata": {},
     "output_type": "execute_result"
    }
   ],
   "source": [
    "x=torch.arange(1.,31.)\n",
    "x_re=x.reshape(2,15)  # just creates a new copy\n",
    "print(x_re)\n",
    "\n",
    "x_re=x.view(2,15)\n",
    "x_re[:,1]=3 #Changing x_re changes x as both share  the same memory\n",
    "x,x_re\n",
    "\n",
    "\n",
    "x_stacked=torch.stack([x,x,x],dim=0) #Stacks 3 x's in a specified dimension\n",
    "x_stacked"
   ]
  },
  {
   "cell_type": "code",
   "execution_count": 47,
   "id": "fade21ee-736a-4a45-974e-4fcea9d75bc1",
   "metadata": {},
   "outputs": [
    {
     "name": "stdout",
     "output_type": "stream",
     "text": [
      "tensor([[0.7786],\n",
      "        [0.8016],\n",
      "        [0.3649]])\n",
      "tensor([0.7786, 0.8016, 0.3649])\n",
      "tensor([[0.7786, 0.8016, 0.3649]])\n",
      "torch.Size([5, 3])\n"
     ]
    },
    {
     "data": {
      "text/plain": [
       "torch.Size([5, 4, 3, 6])"
      ]
     },
     "execution_count": 47,
     "metadata": {},
     "output_type": "execute_result"
    }
   ],
   "source": [
    "#Squeezing, Unsqueezing and Permuting\n",
    "\n",
    "#Squeeze - If any dimension is found to be '1' ,it removes the dimension and flattens the tensor\n",
    "#-The returned tensor shares the storage with the input tensor, so changing the contents of one will change the contents of the other.\n",
    "\n",
    "new=torch.rand(3,1)\n",
    "print(new)\n",
    "new=new.squeeze()\n",
    "print(new)\n",
    "\n",
    "#Unsqueeze - Adds 1 , dimension\n",
    "new=new.unsqueeze(dim=0)\n",
    "print(new)\n",
    "\n",
    "\n",
    "#Permute - Returns a view of a tensor by swapping its dimensions\n",
    "perm=torch.rand(3,5)\n",
    "perm_permed=torch.permute(perm,(1,0))#Here (1,0) signifies that the 1th dimension is to be in the first place\n",
    "print(perm_permed.shape)\n",
    "\n",
    "perm2=torch.rand(3,4,5,6)\n",
    "perm2_permed=torch.permute(perm2,(2,1,0,3))\n",
    "perm2_permed.shape"
   ]
  },
  {
   "cell_type": "markdown",
   "id": "c28f3b1e-43ab-48f7-97ba-b2f010e2248c",
   "metadata": {},
   "source": [
    "<h1>Experimental section - Free to Ignore </h1>"
   ]
  },
  {
   "cell_type": "code",
   "execution_count": 48,
   "id": "eb35cdf8-0617-4da0-aca1-d4107bea40a7",
   "metadata": {},
   "outputs": [
    {
     "name": "stdout",
     "output_type": "stream",
     "text": [
      "tensor([[[0.8325, 0.8324, 0.9382, 0.4561, 0.3427],\n",
      "         [0.4075, 0.5637, 0.4735, 0.6656, 0.7461],\n",
      "         [0.3946, 0.7927, 0.0130, 0.5498, 0.6315],\n",
      "         [0.8832, 0.0827, 0.5123, 0.7747, 0.5146]],\n",
      "\n",
      "        [[0.4381, 0.7884, 0.2626, 0.6280, 0.5841],\n",
      "         [0.0609, 0.0901, 0.9290, 0.1491, 0.4579],\n",
      "         [0.8595, 0.2389, 0.4285, 0.9068, 0.6739],\n",
      "         [0.1857, 0.0013, 0.6637, 0.3250, 0.2551]],\n",
      "\n",
      "        [[0.9134, 0.9205, 0.0640, 0.2996, 0.8763],\n",
      "         [0.0851, 0.0685, 0.7487, 0.9526, 0.5312],\n",
      "         [0.0555, 0.5351, 0.3162, 0.6036, 0.3111],\n",
      "         [0.2959, 0.7271, 0.1596, 0.6651, 0.7346]]])\n",
      "tensor(0.9068)\n",
      "tensor([0.5498, 0.9068, 0.6036])\n",
      "tensor([[0.2389, 0.4285, 0.9068, 0.6739],\n",
      "        [0.5351, 0.3162, 0.6036, 0.3111]])\n"
     ]
    }
   ],
   "source": [
    "new_ten=torch.rand(size=(3,4,5))\n",
    "print(new_ten)\n",
    "\n",
    "print(new_ten[1,2,3])\n",
    "\n",
    "print(new_ten[:,2,3])\n",
    "\n",
    "print(new_ten[1:,2,1:])"
   ]
  },
  {
   "cell_type": "markdown",
   "id": "c5e46cfa-453d-4565-802c-3b9dbff4ce7e",
   "metadata": {},
   "source": [
    "<h1>Reproducibility  Or Random Seed for  random values</h1>"
   ]
  },
  {
   "cell_type": "code",
   "execution_count": 49,
   "id": "71a9ec08-f5e8-4941-a3ba-8171db0252c0",
   "metadata": {},
   "outputs": [
    {
     "name": "stdout",
     "output_type": "stream",
     "text": [
      "tensor([[0.8823, 0.9150, 0.3829],\n",
      "        [0.9593, 0.3904, 0.6009],\n",
      "        [0.2566, 0.7936, 0.9408]]) tensor([[0.8823, 0.9150, 0.3829],\n",
      "        [0.9593, 0.3904, 0.6009],\n",
      "        [0.2566, 0.7936, 0.9408]])\n",
      "tensor([[True, True, True],\n",
      "        [True, True, True],\n",
      "        [True, True, True]])\n"
     ]
    }
   ],
   "source": [
    "torch.manual_seed(42)#This sets the seed to 45 , meaning the random numbers will be based off of this seed\n",
    "\n",
    "t1=torch.rand(3,3)\n",
    "torch.manual_seed(42)#Each seed works for one randomization\n",
    "\n",
    "t2=torch.rand(3,3)\n",
    "print(t1,t2)\n",
    "\n",
    "print(t1==t2)#all the values are equal\n",
    "\n"
   ]
  },
  {
   "cell_type": "code",
   "execution_count": 51,
   "id": "459db5c1-cd7c-4c88-98ad-cabbb9f46add",
   "metadata": {},
   "outputs": [
    {
     "name": "stdout",
     "output_type": "stream",
     "text": [
      "cpu\n",
      "cuda:0\n"
     ]
    }
   ],
   "source": [
    "t2=torch.tensor([[1,2],[2,3]],device=\"cpu\") #create a tensor on a cpu\n",
    "print(t2.device)\n",
    "\n",
    "t2=t2.to(device)\n",
    "print(t2.device)#Will convert the tensor to a gpu tensor if gpu is available\n"
   ]
  },
  {
   "cell_type": "markdown",
   "id": "2313850b-330c-4e03-a46b-fda8ca418c2b",
   "metadata": {},
   "source": [
    "#Sadly This is going to be  the end of this notebook , hopefully we will continue in the next one"
   ]
  },
  {
   "cell_type": "code",
   "execution_count": null,
   "id": "9e1ad20d-f3a6-4c26-8063-97b60d44b73f",
   "metadata": {},
   "outputs": [],
   "source": []
  }
 ],
 "metadata": {
  "kernelspec": {
   "display_name": "Python 3 (ipykernel)",
   "language": "python",
   "name": "python3"
  },
  "language_info": {
   "codemirror_mode": {
    "name": "ipython",
    "version": 3
   },
   "file_extension": ".py",
   "mimetype": "text/x-python",
   "name": "python",
   "nbconvert_exporter": "python",
   "pygments_lexer": "ipython3",
   "version": "3.11.9"
  }
 },
 "nbformat": 4,
 "nbformat_minor": 5
}
